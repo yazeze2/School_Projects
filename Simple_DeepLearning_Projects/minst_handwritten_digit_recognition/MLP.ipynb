{
 "cells": [
  {
   "cell_type": "code",
   "execution_count": 1,
   "id": "9f2180dc",
   "metadata": {},
   "outputs": [],
   "source": [
    "import os\n",
    "os.environ['TF_CPP_MIN_LOG_LEVEL'] = '2'"
   ]
  },
  {
   "cell_type": "code",
   "execution_count": 2,
   "id": "876fc84c",
   "metadata": {},
   "outputs": [],
   "source": [
    "import idx2numpy\n",
    "from collections import Counter\n",
    "from tqdm import tqdm\n",
    "\n",
    "import numpy as np\n",
    "import pandas as pd\n",
    "import matplotlib.pyplot as plt\n",
    "%matplotlib inline\n",
    "import seaborn as sns\n",
    "plt.rcParams['figure.figsize']= [20,6]"
   ]
  },
  {
   "cell_type": "code",
   "execution_count": 3,
   "id": "5c531442",
   "metadata": {},
   "outputs": [],
   "source": [
    "from sklearn.model_selection import train_test_split,StratifiedKFold,cross_validate, cross_val_score, KFold,GridSearchCV\n",
    "from sklearn.linear_model import LogisticRegression\n",
    "from sklearn.ensemble import RandomForestClassifier\n",
    "from sklearn.ensemble import AdaBoostClassifier\n",
    "from sklearn.ensemble import GradientBoostingClassifier\n",
    "from sklearn.svm import SVC\n",
    "from sklearn.linear_model import SGDClassifier\n",
    "from sklearn.kernel_approximation import RBFSampler\n",
    "from sklearn.neighbors import KNeighborsClassifier\n",
    "from sklearn.tree import DecisionTreeClassifier\n",
    "\n",
    "\n",
    "from sklearn.metrics import r2_score,mean_squared_error,mean_absolute_error,precision_score,accuracy_score,classification_report\n",
    "\n",
    "from sklearn.model_selection import cross_val_score\n",
    "from sklearn.model_selection import KFold\n",
    "from sklearn.preprocessing import StandardScaler,PowerTransformer\n",
    "from sklearn.pipeline import Pipeline"
   ]
  },
  {
   "cell_type": "code",
   "execution_count": 4,
   "id": "3e144a7b",
   "metadata": {},
   "outputs": [],
   "source": [
    "import tensorflow as tf\n",
    "from tensorflow.keras.models import Sequential\n",
    "from tensorflow.keras.layers import Dense, Dropout\n",
    "from tensorflow.keras.layers import Flatten\n",
    "from keras.callbacks import EarlyStopping"
   ]
  },
  {
   "cell_type": "code",
   "execution_count": 5,
   "id": "474b4c25",
   "metadata": {},
   "outputs": [],
   "source": [
    "import mlflow\n",
    "import mlflow.sklearn\n",
    "import mlflow.keras\n",
    "import logging\n",
    "logging.getLogger(\"mlflow\").setLevel(logging.ERROR)"
   ]
  },
  {
   "cell_type": "code",
   "execution_count": 14,
   "id": "16d778d1",
   "metadata": {},
   "outputs": [
    {
     "data": {
      "text/plain": [
       "((60000, 28, 28), (60000,), (10000, 28, 28), (10000,))"
      ]
     },
     "execution_count": 14,
     "metadata": {},
     "output_type": "execute_result"
    }
   ],
   "source": [
    "# Training/Validation and Testing Data\n",
    "tr_image_file = '../data/train-images-idx3-ubyte'\n",
    "tr_label_file = '../data/train-labels-idx1-ubyte'\n",
    "ts_image_file = '../data/t10k-images-idx3-ubyte'\n",
    "ts_label_file = '../data/t10k-labels-idx1-ubyte'\n",
    "\n",
    "tr_images = idx2numpy.convert_from_file(tr_image_file)\n",
    "tr_labels = idx2numpy.convert_from_file(tr_label_file)\n",
    "ts_images = idx2numpy.convert_from_file(ts_image_file)\n",
    "ts_labels = idx2numpy.convert_from_file(ts_label_file)\n",
    "\n",
    "tr_images.shape, tr_labels.shape, ts_images.shape, ts_labels.shape"
   ]
  },
  {
   "cell_type": "code",
   "execution_count": 15,
   "id": "454401e8",
   "metadata": {},
   "outputs": [
    {
     "data": {
      "image/png": "[encoded data removed]",
      "text/plain": [
       "<Figure size 1000x400 with 1 Axes>"
      ]
     },
     "metadata": {},
     "output_type": "display_data"
    }
   ],
   "source": [
    "plt.rcParams['figure.figsize']= [10,4]\n",
    "\n",
    "plt.imshow(tr_images[0], cmap='gray')\n",
    "plt.title(f'Label: {tr_labels[0]}')\n",
    "plt.show()"
   ]
  },
  {
   "cell_type": "code",
   "execution_count": 16,
   "id": "5606d368",
   "metadata": {},
   "outputs": [
    {
     "data": {
      "image/png": "[encoded data removed]",
      "text/plain": [
       "<Figure size 1000x400 with 1 Axes>"
      ]
     },
     "metadata": {},
     "output_type": "display_data"
    }
   ],
   "source": [
    "#Checking Class Imbalance\n",
    "class_counts = Counter(tr_labels).most_common()\n",
    "x = [i[0] for i in class_counts]\n",
    "y = [i[1] for i in class_counts]\n",
    "plt.bar(x,y,color='b')\n",
    "plt.title('Class Counts in Training Dataset');"
   ]
  },
  {
   "cell_type": "code",
   "execution_count": 17,
   "id": "0495d69d",
   "metadata": {},
   "outputs": [
    {
     "data": {
      "text/plain": [
       "((60000, 784), (10000, 784))"
      ]
     },
     "execution_count": 17,
     "metadata": {},
     "output_type": "execute_result"
    }
   ],
   "source": [
    "#Flatten Data\n",
    "tr_images = tr_images.reshape(-1, 784)\n",
    "ts_images = ts_images.reshape(-1, 784)\n",
    "\n",
    "tr_images.shape, ts_images.shape"
   ]
  },
  {
   "cell_type": "code",
   "execution_count": 18,
   "id": "c5851752",
   "metadata": {},
   "outputs": [
    {
     "data": {
      "text/plain": [
       "((54000, 784), (54000,), (6000, 784), (6000,))"
      ]
     },
     "execution_count": 18,
     "metadata": {},
     "output_type": "execute_result"
    }
   ],
   "source": [
    "X_tr, X_val, y_tr, y_val = train_test_split(tr_images,tr_labels,test_size=0.1)\n",
    "\n",
    "X_tr.shape, y_tr.shape, X_val.shape, y_val.shape"
   ]
  },
  {
   "cell_type": "code",
   "execution_count": 19,
   "id": "a2e9fbb5",
   "metadata": {},
   "outputs": [],
   "source": [
    "#Standardize Data - Training/Validation\n",
    "scaler = StandardScaler()\n",
    "X_tr_scaled = scaler.fit_transform(X_tr)\n",
    "X_val_scaled = scaler.transform(X_val)"
   ]
  },
  {
   "cell_type": "code",
   "execution_count": 20,
   "id": "bad6f2e9",
   "metadata": {},
   "outputs": [],
   "source": [
    "#Standardize Data - Testing\n",
    "scaler = StandardScaler()\n",
    "tr_images_scaled = scaler.fit_transform(tr_images)\n",
    "ts_images_scaled = scaler.transform(ts_images)"
   ]
  },
  {
   "cell_type": "code",
   "execution_count": 21,
   "id": "9d77c49a",
   "metadata": {},
   "outputs": [],
   "source": [
    "def build_model(num_nodes, drop_out, eta):\n",
    "    \n",
    "    model = Sequential()\n",
    "    model.add(Dense(num_nodes, input_shape = (784,), kernel_initializer='he_uniform', activation='relu'))\n",
    "    model.add(Dropout(drop_out,seed =0))\n",
    "    model.add(Dense(10,activation='softmax'))\n",
    "\n",
    "    sgd = tf.keras.optimizers.experimental.SGD(\n",
    "        learning_rate=eta,\n",
    "        momentum=0.0)\n",
    "    model.compile(optimizer=sgd,\n",
    "                  loss='sparse_categorical_crossentropy',\n",
    "                  metrics=['accuracy'])\n",
    "    return model"
   ]
  },
  {
   "cell_type": "code",
   "execution_count": 24,
   "id": "b7e6a342",
   "metadata": {},
   "outputs": [],
   "source": [
    "# mlflow.get_tracking_uri()"
   ]
  },
  {
   "cell_type": "code",
   "execution_count": 25,
   "id": "029cb20e",
   "metadata": {},
   "outputs": [],
   "source": [
    "# # Define the input signature\n",
    "# input_signature = tf.TensorSpec(shape=(None, 784), dtype=tf.float32)\n",
    "# @tf.function(input_signature=[input_signature])\n",
    "# def predict(x):\n",
    "#     return {'predictions': model(x)}\n",
    "# tf.saved_model.save(model, \"my_model\", signatures={'serving_default': predict})\n",
    "\n",
    "# Set the MLflow server tracking uri \n",
    "# mlflow.set_tracking_uri(\"http://localhost:5000\")\n",
    "\n",
    "\n",
    "def Log_training_validation_expts(num_nodes, drop_out, eta,\n",
    "                                  training_accuracy, validation_accuracy):\n",
    "    \n",
    "    with mlflow.start_run() as run:\n",
    "        # Log parameters\n",
    "        mlflow.log_param(\"num_nodes\", num_nodes)\n",
    "        mlflow.log_param(\"dropout\", drop_out)\n",
    "        mlflow.log_param(\"learning_rate\", eta)\n",
    "\n",
    "        # Log metrics\n",
    "        mlflow.log_metric(\"training_accuracy\", training_accuracy)\n",
    "        mlflow.log_metric(\"validation_accuracy\", validation_accuracy)\n",
    "        \n",
    "        return 1"
   ]
  },
  {
   "cell_type": "code",
   "execution_count": 26,
   "id": "f1866e30",
   "metadata": {},
   "outputs": [],
   "source": [
    "#Parameters to optimize. Through systematic experimentation already gotten a feel for other params, such as \n",
    "# number of layers, batch_size, epoch, activation_funcn and optimizers, etc\n",
    "params = {'number_of_nodes': [64,128,256,512],\n",
    "         'drop_out': [0.0,0.1,0.2,0.3,0.4],\n",
    "         'eta': [0.01, 0.025, 0.05, 0.075, 0.1]}"
   ]
  },
  {
   "cell_type": "code",
   "execution_count": 27,
   "id": "89e1704b",
   "metadata": {},
   "outputs": [
    {
     "name": "stderr",
     "output_type": "stream",
     "text": [
      "100%|█████████████████████████████████████████████████████████████████████████████████| 4/4 [1:05:03<00:00, 975.76s/it]\n"
     ]
    }
   ],
   "source": [
    "early_stopping = EarlyStopping(monitor='val_loss', patience=3, verbose=False)\n",
    "mlflow.set_experiment(\"minst-mlp-dev\")\n",
    "\n",
    "for n in tqdm(params['number_of_nodes']):\n",
    "    for d in params['drop_out']:\n",
    "        for e in params['eta']:\n",
    "            temp_model = build_model(n,d,e)\n",
    " \n",
    "            history = temp_model.fit(X_tr_scaled, y_tr, validation_data=(X_val_scaled, y_val),\n",
    "                                     batch_size = 256, epochs=30, \n",
    "                                     callbacks=[early_stopping], verbose=False)\n",
    "\n",
    "            training_accuracy = history.history['accuracy'][-1]\n",
    "            validation_accuracy = history.history['val_accuracy'][-1]\n",
    "            Log_training_validation_expts(n, d, e, training_accuracy, validation_accuracy)"
   ]
  },
  {
   "cell_type": "code",
   "execution_count": null,
   "id": "b1f6454c",
   "metadata": {},
   "outputs": [],
   "source": []
  },
  {
   "cell_type": "markdown",
   "id": "6b57f8fc",
   "metadata": {},
   "source": [
    " - ### Results"
   ]
  },
  {
   "cell_type": "code",
   "execution_count": 28,
   "id": "5c8a5744",
   "metadata": {},
   "outputs": [],
   "source": [
    "from mpl_toolkits.mplot3d import Axes3D"
   ]
  },
  {
   "cell_type": "code",
   "execution_count": 29,
   "id": "97ce6189",
   "metadata": {},
   "outputs": [
    {
     "data": {
      "text/plain": [
       "(100, 15)"
      ]
     },
     "execution_count": 29,
     "metadata": {},
     "output_type": "execute_result"
    }
   ],
   "source": [
    "all_runs = mlflow.search_runs()\n",
    "all_runs.shape"
   ]
  },
  {
   "cell_type": "code",
   "execution_count": 31,
   "id": "2a79f995",
   "metadata": {},
   "outputs": [
    {
     "data": {
      "text/html": [
       "<div>\n",
       "<style scoped>\n",
       "    .dataframe tbody tr th:only-of-type {\n",
       "        vertical-align: middle;\n",
       "    }\n",
       "\n",
       "    .dataframe tbody tr th {\n",
       "        vertical-align: top;\n",
       "    }\n",
       "\n",
       "    .dataframe thead th {\n",
       "        text-align: right;\n",
       "    }\n",
       "</style>\n",
       "<table border=\"1\" class=\"dataframe\">\n",
       "  <thead>\n",
       "    <tr style=\"text-align: right;\">\n",
       "      <th></th>\n",
       "      <th>metrics.validation_accuracy</th>\n",
       "      <th>params.num_nodes</th>\n",
       "      <th>params.dropout</th>\n",
       "      <th>params.learning_rate</th>\n",
       "      <th>metrics.training_accuracy</th>\n",
       "    </tr>\n",
       "  </thead>\n",
       "  <tbody>\n",
       "    <tr>\n",
       "      <th>30</th>\n",
       "      <td>0.972833</td>\n",
       "      <td>256</td>\n",
       "      <td>0.3</td>\n",
       "      <td>0.1</td>\n",
       "      <td>0.976444</td>\n",
       "    </tr>\n",
       "    <tr>\n",
       "      <th>40</th>\n",
       "      <td>0.972500</td>\n",
       "      <td>256</td>\n",
       "      <td>0.1</td>\n",
       "      <td>0.1</td>\n",
       "      <td>0.987574</td>\n",
       "    </tr>\n",
       "    <tr>\n",
       "      <th>35</th>\n",
       "      <td>0.972167</td>\n",
       "      <td>256</td>\n",
       "      <td>0.2</td>\n",
       "      <td>0.1</td>\n",
       "      <td>0.982815</td>\n",
       "    </tr>\n",
       "    <tr>\n",
       "      <th>37</th>\n",
       "      <td>0.971167</td>\n",
       "      <td>256</td>\n",
       "      <td>0.2</td>\n",
       "      <td>0.05</td>\n",
       "      <td>0.977500</td>\n",
       "    </tr>\n",
       "    <tr>\n",
       "      <th>5</th>\n",
       "      <td>0.970833</td>\n",
       "      <td>512</td>\n",
       "      <td>0.3</td>\n",
       "      <td>0.1</td>\n",
       "      <td>0.984074</td>\n",
       "    </tr>\n",
       "    <tr>\n",
       "      <th>67</th>\n",
       "      <td>0.970667</td>\n",
       "      <td>128</td>\n",
       "      <td>0.1</td>\n",
       "      <td>0.05</td>\n",
       "      <td>0.979889</td>\n",
       "    </tr>\n",
       "    <tr>\n",
       "      <th>20</th>\n",
       "      <td>0.970500</td>\n",
       "      <td>512</td>\n",
       "      <td>0.0</td>\n",
       "      <td>0.1</td>\n",
       "      <td>0.994556</td>\n",
       "    </tr>\n",
       "    <tr>\n",
       "      <th>41</th>\n",
       "      <td>0.970500</td>\n",
       "      <td>256</td>\n",
       "      <td>0.1</td>\n",
       "      <td>0.075</td>\n",
       "      <td>0.988519</td>\n",
       "    </tr>\n",
       "    <tr>\n",
       "      <th>6</th>\n",
       "      <td>0.970333</td>\n",
       "      <td>512</td>\n",
       "      <td>0.3</td>\n",
       "      <td>0.075</td>\n",
       "      <td>0.976130</td>\n",
       "    </tr>\n",
       "    <tr>\n",
       "      <th>27</th>\n",
       "      <td>0.970167</td>\n",
       "      <td>256</td>\n",
       "      <td>0.4</td>\n",
       "      <td>0.05</td>\n",
       "      <td>0.969463</td>\n",
       "    </tr>\n",
       "  </tbody>\n",
       "</table>\n",
       "</div>"
      ],
      "text/plain": [
       "    metrics.validation_accuracy params.num_nodes params.dropout  \\\n",
       "30                     0.972833              256            0.3   \n",
       "40                     0.972500              256            0.1   \n",
       "35                     0.972167              256            0.2   \n",
       "37                     0.971167              256            0.2   \n",
       "5                      0.970833              512            0.3   \n",
       "67                     0.970667              128            0.1   \n",
       "20                     0.970500              512            0.0   \n",
       "41                     0.970500              256            0.1   \n",
       "6                      0.970333              512            0.3   \n",
       "27                     0.970167              256            0.4   \n",
       "\n",
       "   params.learning_rate  metrics.training_accuracy  \n",
       "30                  0.1                   0.976444  \n",
       "40                  0.1                   0.987574  \n",
       "35                  0.1                   0.982815  \n",
       "37                 0.05                   0.977500  \n",
       "5                   0.1                   0.984074  \n",
       "67                 0.05                   0.979889  \n",
       "20                  0.1                   0.994556  \n",
       "41                0.075                   0.988519  \n",
       "6                 0.075                   0.976130  \n",
       "27                 0.05                   0.969463  "
      ]
     },
     "execution_count": 31,
     "metadata": {},
     "output_type": "execute_result"
    }
   ],
   "source": [
    "relev_cols = ['metrics.validation_accuracy',\n",
    "              'params.num_nodes','params.dropout','params.learning_rate',\n",
    "             'metrics.training_accuracy']\n",
    "#Check top-5 Validation Accuracy paramater values\n",
    "all_runs.sort_values(by='metrics.validation_accuracy',ascending=False)[relev_cols].iloc[:10]"
   ]
  },
  {
   "cell_type": "markdown",
   "id": "2e1a1b23",
   "metadata": {},
   "source": [
    "From the above list it appears, the network with 128 nodes (listed last above) appears to be the most logical choice. The gain in predictive performance is less than 0.5% and that wouldn't be worth doubling the network parameters."
   ]
  },
  {
   "cell_type": "markdown",
   "id": "23f1eb4b",
   "metadata": {},
   "source": [
    " - ### Log Final Performance with Optimal Params"
   ]
  },
  {
   "cell_type": "code",
   "execution_count": 35,
   "id": "9c7d85c4",
   "metadata": {},
   "outputs": [
    {
     "name": "stdout",
     "output_type": "stream",
     "text": [
      "Model: \"sequential_100\"\n",
      "_________________________________________________________________\n",
      " Layer (type)                Output Shape              Param #   \n",
      "=================================================================\n",
      " dense_200 (Dense)           (None, 128)               100480    \n",
      "                                                                 \n",
      " dropout_100 (Dropout)       (None, 128)               0         \n",
      "                                                                 \n",
      " dense_201 (Dense)           (None, 10)                1290      \n",
      "                                                                 \n",
      "=================================================================\n",
      "Total params: 101770 (397.54 KB)\n",
      "Trainable params: 101770 (397.54 KB)\n",
      "Non-trainable params: 0 (0.00 Byte)\n",
      "_________________________________________________________________\n"
     ]
    }
   ],
   "source": [
    "model = Sequential()\n",
    "model.add(Dense(128, input_shape = (784,), kernel_initializer='he_uniform', activation='relu'))\n",
    "model.add(Dropout(0.1,seed =0))\n",
    "model.add(Dense(10,activation='softmax'))\n",
    "\n",
    "sgd = tf.keras.optimizers.experimental.SGD(\n",
    "                        learning_rate=0.05,\n",
    "                        momentum=0.0)\n",
    "model.compile(optimizer=sgd,\n",
    "              loss='sparse_categorical_crossentropy',\n",
    "              metrics=['accuracy'])\n",
    "model.summary()"
   ]
  },
  {
   "cell_type": "code",
   "execution_count": 36,
   "id": "796d9202",
   "metadata": {},
   "outputs": [],
   "source": [
    "history = model.fit(X_tr_scaled, y_tr, validation_data=(X_val_scaled, y_val),\n",
    "                  batch_size = 256, epochs=30, \n",
    "                  callbacks=[early_stopping], verbose=False)"
   ]
  },
  {
   "cell_type": "code",
   "execution_count": 37,
   "id": "9587b21e",
   "metadata": {},
   "outputs": [
    {
     "data": {
      "image/png": "[encoded data removed]",
      "text/plain": [
       "<Figure size 1600x600 with 2 Axes>"
      ]
     },
     "metadata": {},
     "output_type": "display_data"
    }
   ],
   "source": [
    "fig, axs = plt.subplots(1,2, figsize=(16,6))\n",
    "\n",
    "axs[0].plot(history.history['loss'], label='train')\n",
    "axs[0].plot(history.history['val_loss'], label='validation')\n",
    "axs[0].set_title('Loss')\n",
    "# axs[0].set_ylim(0, 1)\n",
    "axs[0].legend()\n",
    "\n",
    "axs[1].plot(history.history['accuracy'], label='train')\n",
    "axs[1].plot(history.history['val_accuracy'], label='validation')\n",
    "axs[1].set_title('Accuracy')\n",
    "axs[1].legend()\n",
    "\n",
    "plt.tight_layout();"
   ]
  },
  {
   "cell_type": "code",
   "execution_count": 38,
   "id": "5a4f8a52",
   "metadata": {},
   "outputs": [
    {
     "data": {
      "text/plain": [
       "(0.9812963008880615, 0.9693333506584167)"
      ]
     },
     "execution_count": 38,
     "metadata": {},
     "output_type": "execute_result"
    }
   ],
   "source": [
    "training_accuracy = history.history['accuracy'][-1]\n",
    "validation_accuracy = history.history['val_accuracy'][-1]\n",
    "\n",
    "training_accuracy, validation_accuracy"
   ]
  },
  {
   "cell_type": "code",
   "execution_count": 39,
   "id": "7b0d560e",
   "metadata": {},
   "outputs": [
    {
     "name": "stdout",
     "output_type": "stream",
     "text": [
      "313/313 [==============================] - 1s 3ms/step - loss: 0.1176 - accuracy: 0.9723\n"
     ]
    },
    {
     "data": {
      "text/plain": [
       "(0.11757984757423401, 0.9722999930381775)"
      ]
     },
     "execution_count": 39,
     "metadata": {},
     "output_type": "execute_result"
    }
   ],
   "source": [
    "test_loss, test_accuracy = model.evaluate(ts_images_scaled, ts_labels)\n",
    "test_loss, test_accuracy"
   ]
  },
  {
   "cell_type": "code",
   "execution_count": 40,
   "id": "e0145f79",
   "metadata": {
    "collapsed": true
   },
   "outputs": [
    {
     "name": "stdout",
     "output_type": "stream",
     "text": [
      "INFO:tensorflow:Assets written to: C:\\Users\\ynany\\AppData\\Local\\Temp\\tmp6gav5026\\model\\data\\model\\assets\n"
     ]
    },
    {
     "name": "stderr",
     "output_type": "stream",
     "text": [
      "INFO:tensorflow:Assets written to: C:\\Users\\ynany\\AppData\\Local\\Temp\\tmp6gav5026\\model\\data\\model\\assets\n"
     ]
    }
   ],
   "source": [
    "mlflow.set_experiment(\"minst-mlp-dev\")\n",
    "with mlflow.start_run() as run:\n",
    "    # Log parameters\n",
    "    mlflow.log_param(\"num_nodes\", 128)\n",
    "    mlflow.log_param(\"dropout\", 0.1)\n",
    "    mlflow.log_param(\"learning_rate\", 0.05)\n",
    "\n",
    "    # Log metrics\n",
    "    mlflow.log_metric(\"training_accuracy\", training_accuracy)\n",
    "    mlflow.log_metric(\"validation_accuracy\", validation_accuracy)\n",
    "    mlflow.log_metric(\"test_accuracy\", test_accuracy)\n",
    "    \n",
    "    #Log artficats\n",
    "    mlflow.keras.log_model(model, \"model\")"
   ]
  },
  {
   "cell_type": "code",
   "execution_count": null,
   "id": "9eaaca78",
   "metadata": {},
   "outputs": [],
   "source": []
  }
 ],
 "metadata": {
  "kernelspec": {
   "display_name": "Python 3 (ipykernel)",
   "language": "python",
   "name": "python3"
  },
  "language_info": {
   "codemirror_mode": {
    "name": "ipython",
    "version": 3
   },
   "file_extension": ".py",
   "mimetype": "text/x-python",
   "name": "python",
   "nbconvert_exporter": "python",
   "pygments_lexer": "ipython3",
   "version": "3.8.0"
  }
 },
 "nbformat": 4,
 "nbformat_minor": 5
}

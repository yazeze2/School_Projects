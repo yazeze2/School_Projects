{
 "cells": [
  {
   "cell_type": "code",
   "execution_count": 1,
   "id": "25176fc2",
   "metadata": {},
   "outputs": [],
   "source": [
    "import os\n",
    "os.environ['TF_CPP_MIN_LOG_LEVEL'] = '2'"
   ]
  },
  {
   "cell_type": "code",
   "execution_count": 2,
   "id": "bf154ef2",
   "metadata": {},
   "outputs": [],
   "source": [
    "import idx2numpy\n",
    "from collections import Counter\n",
    "from tqdm import tqdm\n",
    "\n",
    "import numpy as np\n",
    "import pandas as pd\n",
    "import matplotlib.pyplot as plt\n",
    "%matplotlib inline\n",
    "import seaborn as sns\n",
    "plt.rcParams['figure.figsize']= [20,6]"
   ]
  },
  {
   "cell_type": "code",
   "execution_count": 3,
   "id": "a70bfcf9",
   "metadata": {},
   "outputs": [],
   "source": [
    "from sklearn.model_selection import train_test_split,StratifiedKFold,cross_validate, cross_val_score, KFold,GridSearchCV\n",
    "from sklearn.linear_model import LogisticRegression\n",
    "from sklearn.ensemble import RandomForestClassifier\n",
    "from sklearn.ensemble import AdaBoostClassifier\n",
    "from sklearn.ensemble import GradientBoostingClassifier\n",
    "from sklearn.svm import SVC\n",
    "from sklearn.linear_model import SGDClassifier\n",
    "from sklearn.kernel_approximation import RBFSampler\n",
    "from sklearn.neighbors import KNeighborsClassifier\n",
    "from sklearn.tree import DecisionTreeClassifier\n",
    "\n",
    "\n",
    "from sklearn.metrics import r2_score,mean_squared_error,mean_absolute_error,precision_score,accuracy_score,classification_report\n",
    "\n",
    "from sklearn.model_selection import cross_val_score\n",
    "from sklearn.model_selection import KFold\n",
    "from sklearn.preprocessing import StandardScaler,PowerTransformer\n",
    "from sklearn.pipeline import Pipeline"
   ]
  },
  {
   "cell_type": "code",
   "execution_count": 17,
   "id": "927ff211",
   "metadata": {},
   "outputs": [],
   "source": [
    "import tensorflow as tf\n",
    "from tensorflow.keras.models import Sequential\n",
    "from tensorflow.keras.layers import Dense, Dropout\n",
    "from tensorflow.keras.layers import Flatten\n",
    "from keras.callbacks import EarlyStopping"
   ]
  },
  {
   "cell_type": "code",
   "execution_count": 5,
   "id": "8eb1a234",
   "metadata": {},
   "outputs": [],
   "source": [
    "import mlflow\n",
    "import mlflow.sklearn\n",
    "import mlflow.keras\n",
    "import logging\n",
    "logging.getLogger(\"mlflow\").setLevel(logging.ERROR)"
   ]
  },
  {
   "cell_type": "code",
   "execution_count": 6,
   "id": "1426f8f5",
   "metadata": {},
   "outputs": [
    {
     "data": {
      "text/plain": [
       "((60000, 28, 28), (60000,), (10000, 28, 28), (10000,))"
      ]
     },
     "execution_count": 6,
     "metadata": {},
     "output_type": "execute_result"
    }
   ],
   "source": [
    "# Training/Validation and Testing Data\n",
    "tr_image_file = 'data/train-images-idx3-ubyte'\n",
    "tr_label_file = 'data/train-labels-idx1-ubyte'\n",
    "ts_image_file = 'data/t10k-images-idx3-ubyte'\n",
    "ts_label_file = 'data/t10k-labels-idx1-ubyte'\n",
    "\n",
    "tr_images = idx2numpy.convert_from_file(tr_image_file)\n",
    "tr_labels = idx2numpy.convert_from_file(tr_label_file)\n",
    "ts_images = idx2numpy.convert_from_file(ts_image_file)\n",
    "ts_labels = idx2numpy.convert_from_file(ts_label_file)\n",
    "\n",
    "tr_images.shape, tr_labels.shape, ts_images.shape, ts_labels.shape"
   ]
  },
  {
   "cell_type": "code",
   "execution_count": 7,
   "id": "e397954e",
   "metadata": {},
   "outputs": [
    {
     "data": {
      "image/png": "[encoded data removed]",
      "text/plain": [
       "<Figure size 1000x400 with 1 Axes>"
      ]
     },
     "metadata": {},
     "output_type": "display_data"
    }
   ],
   "source": [
    "plt.rcParams['figure.figsize']= [10,4]\n",
    "\n",
    "plt.imshow(tr_images[0], cmap='gray')\n",
    "plt.title(f'Label: {tr_labels[0]}')\n",
    "plt.show()"
   ]
  },
  {
   "cell_type": "code",
   "execution_count": 8,
   "id": "bbf9634c",
   "metadata": {},
   "outputs": [
    {
     "data": {
      "image/png": "[encoded data removed]",
      "text/plain": [
       "<Figure size 1000x400 with 1 Axes>"
      ]
     },
     "metadata": {},
     "output_type": "display_data"
    }
   ],
   "source": [
    "#Checking Class Imbalance\n",
    "class_counts = Counter(tr_labels).most_common()\n",
    "x = [i[0] for i in class_counts]\n",
    "y = [i[1] for i in class_counts]\n",
    "plt.bar(x,y,color='b')\n",
    "plt.title('Class Counts in Training Dataset');"
   ]
  },
  {
   "cell_type": "code",
   "execution_count": 9,
   "id": "715ae7fc",
   "metadata": {},
   "outputs": [
    {
     "data": {
      "text/plain": [
       "((60000, 784), (10000, 784))"
      ]
     },
     "execution_count": 9,
     "metadata": {},
     "output_type": "execute_result"
    }
   ],
   "source": [
    "#Flatten Data\n",
    "tr_images = tr_images.reshape(-1, 784)\n",
    "ts_images = ts_images.reshape(-1, 784)\n",
    "\n",
    "tr_images.shape, ts_images.shape"
   ]
  },
  {
   "cell_type": "code",
   "execution_count": 10,
   "id": "27df8591",
   "metadata": {},
   "outputs": [
    {
     "data": {
      "text/plain": [
       "((54000, 784), (54000,), (6000, 784), (6000,))"
      ]
     },
     "execution_count": 10,
     "metadata": {},
     "output_type": "execute_result"
    }
   ],
   "source": [
    "X_tr, X_val, y_tr, y_val = train_test_split(tr_images,tr_labels,test_size=0.1)\n",
    "\n",
    "X_tr.shape, y_tr.shape, X_val.shape, y_val.shape"
   ]
  },
  {
   "cell_type": "code",
   "execution_count": 11,
   "id": "ff242726",
   "metadata": {},
   "outputs": [],
   "source": [
    "#Standardize Data - Training/Validation\n",
    "scaler = StandardScaler()\n",
    "X_tr_scaled = scaler.fit_transform(X_tr)\n",
    "X_val_scaled = scaler.transform(X_val)"
   ]
  },
  {
   "cell_type": "code",
   "execution_count": 12,
   "id": "444baca7",
   "metadata": {},
   "outputs": [],
   "source": [
    "#Standardize Data - Testing\n",
    "scaler = StandardScaler()\n",
    "tr_images_scaled = scaler.fit_transform(tr_images)\n",
    "ts_images_scaled = scaler.transform(ts_images)"
   ]
  },
  {
   "cell_type": "code",
   "execution_count": 13,
   "id": "c5fde2de",
   "metadata": {},
   "outputs": [],
   "source": [
    "def build_model(num_nodes, drop_out, eta):\n",
    "    \n",
    "    model = Sequential()\n",
    "    model.add(Dense(num_nodes, input_shape = (784,), kernel_initializer='he_uniform', activation='relu'))\n",
    "    model.add(Dropout(drop_out,seed =0))\n",
    "    model.add(Dense(10,activation='softmax'))\n",
    "\n",
    "    sgd = tf.keras.optimizers.experimental.SGD(\n",
    "        learning_rate=eta,\n",
    "        momentum=0.0)\n",
    "    model.compile(optimizer=sgd,\n",
    "                  loss='sparse_categorical_crossentropy',\n",
    "                  metrics=['accuracy'])\n",
    "    return model"
   ]
  },
  {
   "cell_type": "code",
   "execution_count": 40,
   "id": "5204cfe6",
   "metadata": {},
   "outputs": [],
   "source": [
    "# # Define the input signature\n",
    "# input_signature = tf.TensorSpec(shape=(None, 784), dtype=tf.float32)\n",
    "# @tf.function(input_signature=[input_signature])\n",
    "# def predict(x):\n",
    "#     return {'predictions': model(x)}\n",
    "# tf.saved_model.save(model, \"my_model\", signatures={'serving_default': predict})\n",
    "\n",
    "# Set the MLflow server tracking uri \n",
    "# mlflow.set_tracking_uri(\"http://localhost:5000\")\n",
    "\n",
    "\n",
    "def Log_training_validation_expts(num_nodes, drop_out, eta,\n",
    "                                  training_accuracy, validation_accuracy):\n",
    "    \n",
    "    with mlflow.start_run() as run:\n",
    "        # Log parameters\n",
    "        mlflow.log_param(\"num_nodes\", num_nodes)\n",
    "        mlflow.log_param(\"dropout\", drop_out)\n",
    "        mlflow.log_param(\"learning_rate\", eta)\n",
    "\n",
    "        # Log metrics\n",
    "        mlflow.log_metric(\"training_accuracy\", training_accuracy)\n",
    "        mlflow.log_metric(\"validation_accuracy\", validation_accuracy)\n",
    "        \n",
    "        return 1"
   ]
  },
  {
   "cell_type": "code",
   "execution_count": 15,
   "id": "f3c3365b",
   "metadata": {},
   "outputs": [],
   "source": [
    "#Parameters to optimize. Through systematic experimentation already gotten a feel for other params, such as \n",
    "# number of layers, batch_size, epoch, activation_funcn and optimizers, etc\n",
    "params = {'number_of_nodes': [16,32,64,128,256,512],\n",
    "         'drop_out': [0.0,0.1,0.2,0.3],\n",
    "         'eta': [0.01, 0.025, 0.05, 0.075, 0.1]}"
   ]
  },
  {
   "cell_type": "code",
   "execution_count": 19,
   "id": "a9d8df65",
   "metadata": {},
   "outputs": [
    {
     "name": "stderr",
     "output_type": "stream",
     "text": [
      "100%|█████████████████████████████████████████████████████████████████████████████████| 6/6 [1:35:06<00:00, 951.16s/it]\n"
     ]
    }
   ],
   "source": [
    "early_stopping = EarlyStopping(monitor='val_loss', patience=3, verbose=False)\n",
    "mlflow.set_experiment(\"minst-mlp-dev\")\n",
    "\n",
    "for n in tqdm(params['number_of_nodes']):\n",
    "    for d in params['drop_out']:\n",
    "        for e in params['eta']:\n",
    "            temp_model = build_model(n,d,e)\n",
    " \n",
    "            history = temp_model.fit(X_tr_scaled, y_tr, validation_data=(X_val_scaled, y_val),\n",
    "                      batch_size = 256, epochs=50, callbacks=[early_stopping], verbose=False)\n",
    "\n",
    "            training_accuracy = history.history['accuracy'][-1]\n",
    "            validation_accuracy = history.history['val_accuracy'][-1]\n",
    "            Log_training_validation_expts(n, d, e, training_accuracy, validation_accuracy)"
   ]
  },
  {
   "cell_type": "code",
   "execution_count": null,
   "id": "94469d0b",
   "metadata": {},
   "outputs": [],
   "source": []
  },
  {
   "cell_type": "markdown",
   "id": "de65acf9",
   "metadata": {},
   "source": [
    " - ### Visualize Results"
   ]
  },
  {
   "cell_type": "code",
   "execution_count": 41,
   "id": "18fae426",
   "metadata": {},
   "outputs": [],
   "source": [
    "from mpl_toolkits.mplot3d import Axes3D"
   ]
  },
  {
   "cell_type": "code",
   "execution_count": 25,
   "id": "1126fd6c",
   "metadata": {},
   "outputs": [],
   "source": [
    "all_runs = mlflow.search_runs()\n",
    "all_runs.shape"
   ]
  },
  {
   "cell_type": "code",
   "execution_count": 31,
   "id": "5c6e6326",
   "metadata": {},
   "outputs": [
    {
     "data": {
      "text/html": [
       "<div>\n",
       "<style scoped>\n",
       "    .dataframe tbody tr th:only-of-type {\n",
       "        vertical-align: middle;\n",
       "    }\n",
       "\n",
       "    .dataframe tbody tr th {\n",
       "        vertical-align: top;\n",
       "    }\n",
       "\n",
       "    .dataframe thead th {\n",
       "        text-align: right;\n",
       "    }\n",
       "</style>\n",
       "<table border=\"1\" class=\"dataframe\">\n",
       "  <thead>\n",
       "    <tr style=\"text-align: right;\">\n",
       "      <th></th>\n",
       "      <th>metrics.training_accuracy</th>\n",
       "      <th>metrics.validation_accuracy</th>\n",
       "      <th>params.dropout</th>\n",
       "      <th>params.num_nodes</th>\n",
       "    </tr>\n",
       "  </thead>\n",
       "  <tbody>\n",
       "    <tr>\n",
       "      <th>0</th>\n",
       "      <td>0.941037</td>\n",
       "      <td>0.753333</td>\n",
       "      <td>0.3</td>\n",
       "      <td>512</td>\n",
       "    </tr>\n",
       "    <tr>\n",
       "      <th>1</th>\n",
       "      <td>0.959000</td>\n",
       "      <td>0.951667</td>\n",
       "      <td>0.3</td>\n",
       "      <td>512</td>\n",
       "    </tr>\n",
       "    <tr>\n",
       "      <th>2</th>\n",
       "      <td>0.982963</td>\n",
       "      <td>0.970167</td>\n",
       "      <td>0.3</td>\n",
       "      <td>512</td>\n",
       "    </tr>\n",
       "    <tr>\n",
       "      <th>3</th>\n",
       "      <td>0.977778</td>\n",
       "      <td>0.970000</td>\n",
       "      <td>0.3</td>\n",
       "      <td>512</td>\n",
       "    </tr>\n",
       "    <tr>\n",
       "      <th>4</th>\n",
       "      <td>0.969685</td>\n",
       "      <td>0.966667</td>\n",
       "      <td>0.3</td>\n",
       "      <td>512</td>\n",
       "    </tr>\n",
       "  </tbody>\n",
       "</table>\n",
       "</div>"
      ],
      "text/plain": [
       "   metrics.training_accuracy  metrics.validation_accuracy params.dropout  \\\n",
       "0                   0.941037                     0.753333            0.3   \n",
       "1                   0.959000                     0.951667            0.3   \n",
       "2                   0.982963                     0.970167            0.3   \n",
       "3                   0.977778                     0.970000            0.3   \n",
       "4                   0.969685                     0.966667            0.3   \n",
       "\n",
       "  params.num_nodes  \n",
       "0              512  \n",
       "1              512  \n",
       "2              512  \n",
       "3              512  \n",
       "4              512  "
      ]
     },
     "execution_count": 31,
     "metadata": {},
     "output_type": "execute_result"
    }
   ],
   "source": [
    "relev_cols = ['metrics.training_accuracy', 'metrics.validation_accuracy','params.dropout', 'params.num_nodes']\n",
    "all_runs.head()[relev_cols]"
   ]
  },
  {
   "cell_type": "code",
   "execution_count": 34,
   "id": "be2e4037",
   "metadata": {},
   "outputs": [
    {
     "data": {
      "text/html": [
       "<div>\n",
       "<style scoped>\n",
       "    .dataframe tbody tr th:only-of-type {\n",
       "        vertical-align: middle;\n",
       "    }\n",
       "\n",
       "    .dataframe tbody tr th {\n",
       "        vertical-align: top;\n",
       "    }\n",
       "\n",
       "    .dataframe thead th {\n",
       "        text-align: right;\n",
       "    }\n",
       "</style>\n",
       "<table border=\"1\" class=\"dataframe\">\n",
       "  <thead>\n",
       "    <tr style=\"text-align: right;\">\n",
       "      <th></th>\n",
       "      <th>metrics.training_accuracy</th>\n",
       "      <th>metrics.validation_accuracy</th>\n",
       "      <th>params.dropout</th>\n",
       "      <th>params.num_nodes</th>\n",
       "    </tr>\n",
       "  </thead>\n",
       "  <tbody>\n",
       "    <tr>\n",
       "      <th>16</th>\n",
       "      <td>0.999278</td>\n",
       "      <td>0.973833</td>\n",
       "      <td>0.0</td>\n",
       "      <td>512</td>\n",
       "    </tr>\n",
       "    <tr>\n",
       "      <th>36</th>\n",
       "      <td>0.996037</td>\n",
       "      <td>0.975500</td>\n",
       "      <td>0.0</td>\n",
       "      <td>256</td>\n",
       "    </tr>\n",
       "  </tbody>\n",
       "</table>\n",
       "</div>"
      ],
      "text/plain": [
       "    metrics.training_accuracy  metrics.validation_accuracy params.dropout  \\\n",
       "16                   0.999278                     0.973833            0.0   \n",
       "36                   0.996037                     0.975500            0.0   \n",
       "\n",
       "   params.num_nodes  \n",
       "16              512  \n",
       "36              256  "
      ]
     },
     "execution_count": 34,
     "metadata": {},
     "output_type": "execute_result"
    }
   ],
   "source": [
    "arg_tr_max = all_runs['metrics.training_accuracy'].argmax()\n",
    "arg_val_max = all_runs['metrics.validation_accuracy'].argmax()\n",
    "\n",
    "all_runs.loc[[arg_tr_max,arg_val_max]][relev_cols]"
   ]
  },
  {
   "cell_type": "code",
   "execution_count": 46,
   "id": "ba78ca09",
   "metadata": {},
   "outputs": [],
   "source": [
    "filtered_data = all_runs[relev_cols].copy()\n",
    "# convert data to numeric type for plotting\n",
    "filtered_data = filtered_data.apply(pd.to_numeric)"
   ]
  },
  {
   "cell_type": "code",
   "execution_count": null,
   "id": "66dbe48b",
   "metadata": {},
   "outputs": [],
   "source": [
    "fig = plt.figure(figsize=(10, 7))\n",
    "ax = fig.add_subplot(111, projection='3d')\n",
    "\n",
    "# Normalize your_metric for coloring\n",
    "norm = plt.Normalize(filtered_data['metrics.validation_accuracy'].min(), \n",
    "                     filtered_data['metrics.validation_accuracy'].max())\n",
    "\n",
    "# Create a colormap\n",
    "cmap = plt.get_cmap(\"cool\")\n",
    "\n",
    "ax.scatter(filtered_data['params.eta'], \n",
    "           filtered_data['params.dropout'], \n",
    "           filtered_data['params.learning_rate'], \n",
    "           c=cmap(norm(filtered_data['metrics.validation_accuracy'])))\n",
    "\n",
    "ax.set_xlabel('Number of Nodes')\n",
    "ax.set_ylabel('Learning Rate')\n",
    "ax.set_zlabel('Drop Out')\n",
    "\n",
    "plt.show()\n"
   ]
  },
  {
   "cell_type": "code",
   "execution_count": null,
   "id": "e5e20e50",
   "metadata": {},
   "outputs": [],
   "source": []
  },
  {
   "cell_type": "code",
   "execution_count": null,
   "id": "6bf3a374",
   "metadata": {},
   "outputs": [],
   "source": []
  },
  {
   "cell_type": "code",
   "execution_count": null,
   "id": "b650333e",
   "metadata": {},
   "outputs": [],
   "source": []
  },
  {
   "cell_type": "markdown",
   "id": "2b29ad10",
   "metadata": {},
   "source": [
    " - ### Log Final Performance with Optimal Params"
   ]
  },
  {
   "cell_type": "code",
   "execution_count": 35,
   "id": "4ed7c119",
   "metadata": {},
   "outputs": [
    {
     "name": "stdout",
     "output_type": "stream",
     "text": [
      "Model: \"sequential_120\"\n",
      "_________________________________________________________________\n",
      " Layer (type)                Output Shape              Param #   \n",
      "=================================================================\n",
      " dense_240 (Dense)           (None, 256)               200960    \n",
      "                                                                 \n",
      " dropout_120 (Dropout)       (None, 256)               0         \n",
      "                                                                 \n",
      " dense_241 (Dense)           (None, 10)                2570      \n",
      "                                                                 \n",
      "=================================================================\n",
      "Total params: 203530 (795.04 KB)\n",
      "Trainable params: 203530 (795.04 KB)\n",
      "Non-trainable params: 0 (0.00 Byte)\n",
      "_________________________________________________________________\n"
     ]
    }
   ],
   "source": [
    "#From looking at the Mlflow logs, it appears after num_nodes=128 and Dropout=0.1, \n",
    "# there wasn't significant improvement to justify incresing the number of nodes\n",
    "model = Sequential()\n",
    "model.add(Dense(256, input_shape = (784,), kernel_initializer='he_uniform', activation='relu'))\n",
    "model.add(Dropout(0.0,seed =0))\n",
    "model.add(Dense(10,activation='softmax'))\n",
    "\n",
    "sgd = tf.keras.optimizers.experimental.SGD(\n",
    "    learning_rate=0.01,\n",
    "    momentum=0.0)\n",
    "model.compile(optimizer=sgd,\n",
    "              loss='sparse_categorical_crossentropy',\n",
    "              metrics=['accuracy'])\n",
    "model.summary()"
   ]
  },
  {
   "cell_type": "code",
   "execution_count": null,
   "id": "50123109",
   "metadata": {},
   "outputs": [],
   "source": [
    "0.025, 0.05, 0.075, 0.1"
   ]
  },
  {
   "cell_type": "code",
   "execution_count": 36,
   "id": "77efb248",
   "metadata": {},
   "outputs": [],
   "source": [
    "history = model.fit(X_tr_scaled, y_tr, validation_data=(X_val_scaled, y_val),\n",
    "                  batch_size = 32, epochs=20, verbose=False)"
   ]
  },
  {
   "cell_type": "code",
   "execution_count": 37,
   "id": "c22e6819",
   "metadata": {},
   "outputs": [
    {
     "data": {
      "image/png": "[encoded data removed]",
      "text/plain": [
       "<Figure size 1600x600 with 2 Axes>"
      ]
     },
     "metadata": {},
     "output_type": "display_data"
    }
   ],
   "source": [
    "fig, axs = plt.subplots(1,2, figsize=(16,6))\n",
    "\n",
    "axs[0].plot(history.history['loss'], label='train')\n",
    "axs[0].plot(history.history['val_loss'], label='validation')\n",
    "axs[0].set_title('Loss')\n",
    "# axs[0].set_ylim(0, 1)\n",
    "axs[0].legend()\n",
    "\n",
    "axs[1].plot(history.history['accuracy'], label='train')\n",
    "axs[1].plot(history.history['val_accuracy'], label='validation')\n",
    "axs[1].set_title('Accuracy')\n",
    "axs[1].legend()\n",
    "\n",
    "plt.tight_layout();"
   ]
  },
  {
   "cell_type": "code",
   "execution_count": 38,
   "id": "f7f7ae83",
   "metadata": {},
   "outputs": [
    {
     "data": {
      "text/plain": [
       "(0.9932036995887756, 0.968833327293396)"
      ]
     },
     "execution_count": 38,
     "metadata": {},
     "output_type": "execute_result"
    }
   ],
   "source": [
    "training_accuracy = history.history['accuracy'][-1]\n",
    "validation_accuracy = history.history['val_accuracy'][-1]\n",
    "\n",
    "training_accuracy, validation_accuracy"
   ]
  },
  {
   "cell_type": "code",
   "execution_count": null,
   "id": "513bbff3",
   "metadata": {},
   "outputs": [],
   "source": [
    "test_loss, test_accuracy = model.evaluate(ts_images_scaled, ts_labels)\n",
    "test_loss, test_accuracy"
   ]
  },
  {
   "cell_type": "code",
   "execution_count": null,
   "id": "5eaa0c01",
   "metadata": {},
   "outputs": [],
   "source": [
    "mlflow.set_experiment(\"minst-mlp-dev\")\n",
    "with mlflow.start_run() as run:\n",
    "    # Log parameters\n",
    "    mlflow.log_param(\"num_nodes\", 128)\n",
    "    mlflow.log_param(\"dropout\", 0.0)\n",
    "\n",
    "    # Log metrics\n",
    "    mlflow.log_metric(\"training_accuracy\", training_accuracy)\n",
    "    mlflow.log_metric(\"validation_accuracy\", validation_accuracy)\n",
    "    mlflow.log_metric(\"test_accuracy\", test_accuracy)"
   ]
  },
  {
   "cell_type": "code",
   "execution_count": null,
   "id": "b9f63e73",
   "metadata": {},
   "outputs": [],
   "source": []
  }
 ],
 "metadata": {
  "kernelspec": {
   "display_name": "Python 3 (ipykernel)",
   "language": "python",
   "name": "python3"
  },
  "language_info": {
   "codemirror_mode": {
    "name": "ipython",
    "version": 3
   },
   "file_extension": ".py",
   "mimetype": "text/x-python",
   "name": "python",
   "nbconvert_exporter": "python",
   "pygments_lexer": "ipython3",
   "version": "3.8.0"
  }
 },
 "nbformat": 4,
 "nbformat_minor": 5
}

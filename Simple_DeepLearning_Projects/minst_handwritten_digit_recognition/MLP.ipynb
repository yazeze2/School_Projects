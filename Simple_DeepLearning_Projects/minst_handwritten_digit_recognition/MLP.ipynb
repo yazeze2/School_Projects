{
 "cells": [
  {
   "cell_type": "code",
   "execution_count": 1,
   "id": "fa729e7e",
   "metadata": {},
   "outputs": [],
   "source": [
    "import os\n",
    "os.environ['TF_CPP_MIN_LOG_LEVEL'] = '2'"
   ]
  },
  {
   "cell_type": "code",
   "execution_count": 2,
   "id": "839630bb",
   "metadata": {},
   "outputs": [],
   "source": [
    "import idx2numpy\n",
    "from collections import Counter\n",
    "from tqdm import tqdm\n",
    "\n",
    "import numpy as np\n",
    "import pandas as pd\n",
    "import matplotlib.pyplot as plt\n",
    "%matplotlib inline\n",
    "import seaborn as sns\n",
    "plt.rcParams['figure.figsize']= [20,6]"
   ]
  },
  {
   "cell_type": "code",
   "execution_count": 3,
   "id": "fd38f853",
   "metadata": {},
   "outputs": [],
   "source": [
    "from sklearn.model_selection import train_test_split,StratifiedKFold,cross_validate, cross_val_score, KFold,GridSearchCV\n",
    "from sklearn.linear_model import LogisticRegression\n",
    "from sklearn.ensemble import RandomForestClassifier\n",
    "from sklearn.ensemble import AdaBoostClassifier\n",
    "from sklearn.ensemble import GradientBoostingClassifier\n",
    "from sklearn.svm import SVC\n",
    "from sklearn.linear_model import SGDClassifier\n",
    "from sklearn.kernel_approximation import RBFSampler\n",
    "from sklearn.neighbors import KNeighborsClassifier\n",
    "from sklearn.tree import DecisionTreeClassifier\n",
    "\n",
    "\n",
    "from sklearn.metrics import r2_score,mean_squared_error,mean_absolute_error,precision_score,accuracy_score,classification_report\n",
    "\n",
    "from sklearn.model_selection import cross_val_score\n",
    "from sklearn.model_selection import KFold\n",
    "from sklearn.preprocessing import StandardScaler,PowerTransformer\n",
    "from sklearn.pipeline import Pipeline"
   ]
  },
  {
   "cell_type": "code",
   "execution_count": 4,
   "id": "4eabb153",
   "metadata": {},
   "outputs": [],
   "source": [
    "import tensorflow as tf\n",
    "from tensorflow.keras.models import Sequential\n",
    "from tensorflow.keras.layers import Dense, Dropout\n",
    "from tensorflow.keras.layers import Flatten\n",
    "from keras.callbacks import EarlyStopping"
   ]
  },
  {
   "cell_type": "code",
   "execution_count": 5,
   "id": "5b31841b",
   "metadata": {},
   "outputs": [],
   "source": [
    "import mlflow\n",
    "import mlflow.sklearn\n",
    "import mlflow.keras\n",
    "import logging\n",
    "logging.getLogger(\"mlflow\").setLevel(logging.ERROR)"
   ]
  },
  {
   "cell_type": "code",
   "execution_count": 6,
   "id": "828b73a9",
   "metadata": {},
   "outputs": [
    {
     "data": {
      "text/plain": [
       "((60000, 28, 28), (60000,), (10000, 28, 28), (10000,))"
      ]
     },
     "execution_count": 6,
     "metadata": {},
     "output_type": "execute_result"
    }
   ],
   "source": [
    "# Training/Validation and Testing Data\n",
    "tr_image_file = 'data/train-images-idx3-ubyte'\n",
    "tr_label_file = 'data/train-labels-idx1-ubyte'\n",
    "ts_image_file = 'data/t10k-images-idx3-ubyte'\n",
    "ts_label_file = 'data/t10k-labels-idx1-ubyte'\n",
    "\n",
    "tr_images = idx2numpy.convert_from_file(tr_image_file)\n",
    "tr_labels = idx2numpy.convert_from_file(tr_label_file)\n",
    "ts_images = idx2numpy.convert_from_file(ts_image_file)\n",
    "ts_labels = idx2numpy.convert_from_file(ts_label_file)\n",
    "\n",
    "tr_images.shape, tr_labels.shape, ts_images.shape, ts_labels.shape"
   ]
  },
  {
   "cell_type": "code",
   "execution_count": 7,
   "id": "62d2fb84",
   "metadata": {},
   "outputs": [
    {
     "data": {
      "image/png": "[encoded data removed]",
      "text/plain": [
       "<Figure size 1000x400 with 1 Axes>"
      ]
     },
     "metadata": {},
     "output_type": "display_data"
    }
   ],
   "source": [
    "plt.rcParams['figure.figsize']= [10,4]\n",
    "\n",
    "plt.imshow(tr_images[0], cmap='gray')\n",
    "plt.title(f'Label: {tr_labels[0]}')\n",
    "plt.show()"
   ]
  },
  {
   "cell_type": "code",
   "execution_count": 8,
   "id": "61e9c202",
   "metadata": {},
   "outputs": [
    {
     "data": {
      "image/png": "[encoded data removed]",
      "text/plain": [
       "<Figure size 1000x400 with 1 Axes>"
      ]
     },
     "metadata": {},
     "output_type": "display_data"
    }
   ],
   "source": [
    "#Checking Class Imbalance\n",
    "class_counts = Counter(tr_labels).most_common()\n",
    "x = [i[0] for i in class_counts]\n",
    "y = [i[1] for i in class_counts]\n",
    "plt.bar(x,y,color='b')\n",
    "plt.title('Class Counts in Training Dataset');"
   ]
  },
  {
   "cell_type": "code",
   "execution_count": 9,
   "id": "a8ccee4b",
   "metadata": {},
   "outputs": [
    {
     "data": {
      "text/plain": [
       "((60000, 784), (10000, 784))"
      ]
     },
     "execution_count": 9,
     "metadata": {},
     "output_type": "execute_result"
    }
   ],
   "source": [
    "#Flatten Data\n",
    "tr_images = tr_images.reshape(-1, 784)\n",
    "ts_images = ts_images.reshape(-1, 784)\n",
    "\n",
    "tr_images.shape, ts_images.shape"
   ]
  },
  {
   "cell_type": "code",
   "execution_count": 10,
   "id": "0db7c9e6",
   "metadata": {},
   "outputs": [
    {
     "data": {
      "text/plain": [
       "((54000, 784), (54000,), (6000, 784), (6000,))"
      ]
     },
     "execution_count": 10,
     "metadata": {},
     "output_type": "execute_result"
    }
   ],
   "source": [
    "X_tr, X_val, y_tr, y_val = train_test_split(tr_images,tr_labels,test_size=0.1)\n",
    "\n",
    "X_tr.shape, y_tr.shape, X_val.shape, y_val.shape"
   ]
  },
  {
   "cell_type": "code",
   "execution_count": 11,
   "id": "e77f057c",
   "metadata": {},
   "outputs": [],
   "source": [
    "#Standardize Data - Training/Validation\n",
    "scaler = StandardScaler()\n",
    "X_tr_scaled = scaler.fit_transform(X_tr)\n",
    "X_val_scaled = scaler.transform(X_val)"
   ]
  },
  {
   "cell_type": "code",
   "execution_count": 12,
   "id": "8f96f4b7",
   "metadata": {},
   "outputs": [],
   "source": [
    "#Standardize Data - Testing\n",
    "scaler = StandardScaler()\n",
    "tr_images_scaled = scaler.fit_transform(tr_images)\n",
    "ts_images_scaled = scaler.transform(ts_images)"
   ]
  },
  {
   "cell_type": "code",
   "execution_count": 13,
   "id": "c366c00f",
   "metadata": {},
   "outputs": [],
   "source": [
    "def build_model(num_nodes, drop_out, eta):\n",
    "    \n",
    "    model = Sequential()\n",
    "    model.add(Dense(num_nodes, input_shape = (784,), kernel_initializer='he_uniform', activation='relu'))\n",
    "    model.add(Dropout(drop_out,seed =0))\n",
    "    model.add(Dense(10,activation='softmax'))\n",
    "\n",
    "    sgd = tf.keras.optimizers.experimental.SGD(\n",
    "        learning_rate=eta,\n",
    "        momentum=0.0)\n",
    "    model.compile(optimizer=sgd,\n",
    "                  loss='sparse_categorical_crossentropy',\n",
    "                  metrics=['accuracy'])\n",
    "    return model"
   ]
  },
  {
   "cell_type": "code",
   "execution_count": 14,
   "id": "5ad949bb",
   "metadata": {},
   "outputs": [],
   "source": [
    "# # Define the input signature\n",
    "# input_signature = tf.TensorSpec(shape=(None, 784), dtype=tf.float32)\n",
    "# @tf.function(input_signature=[input_signature])\n",
    "# def predict(x):\n",
    "#     return {'predictions': model(x)}\n",
    "# tf.saved_model.save(model, \"my_model\", signatures={'serving_default': predict})\n",
    "\n",
    "# Set the MLflow server tracking uri \n",
    "# mlflow.set_tracking_uri(\"http://localhost:5000\")\n",
    "\n",
    "\n",
    "def Log_training_validation_expts(num_nodes, drop_out, eta,\n",
    "                                  training_accuracy, validation_accuracy):\n",
    "    \n",
    "    with mlflow.start_run() as run:\n",
    "        # Log parameters\n",
    "        mlflow.log_param(\"num_nodes\", num_nodes)\n",
    "        mlflow.log_param(\"dropout\", drop_out)\n",
    "        mlflow.log_param(\"learning_rate\", eta)\n",
    "\n",
    "        # Log metrics\n",
    "        mlflow.log_metric(\"training_accuracy\", training_accuracy)\n",
    "        mlflow.log_metric(\"validation_accuracy\", validation_accuracy)\n",
    "        \n",
    "        return 1"
   ]
  },
  {
   "cell_type": "code",
   "execution_count": 15,
   "id": "11e38ba6",
   "metadata": {},
   "outputs": [],
   "source": [
    "#Parameters to optimize. Through systematic experimentation already gotten a feel for other params, such as \n",
    "# number of layers, batch_size, epoch, activation_funcn and optimizers, etc\n",
    "params = {'number_of_nodes': [64,128,256,512],\n",
    "         'drop_out': [0.0,0.1,0.2,0.3,0.4],\n",
    "         'eta': [0.01, 0.025, 0.05, 0.075, 0.1]}"
   ]
  },
  {
   "cell_type": "code",
   "execution_count": 16,
   "id": "c0aef187",
   "metadata": {},
   "outputs": [
    {
     "name": "stderr",
     "output_type": "stream",
     "text": [
      "100%|████████████████████████████████████████████████████████████████████████████████| 4/4 [1:12:12<00:00, 1083.04s/it]\n"
     ]
    }
   ],
   "source": [
    "early_stopping = EarlyStopping(monitor='val_loss', patience=3, verbose=False)\n",
    "mlflow.set_experiment(\"minst-mlp-dev\")\n",
    "\n",
    "for n in tqdm(params['number_of_nodes']):\n",
    "    for d in params['drop_out']:\n",
    "        for e in params['eta']:\n",
    "            temp_model = build_model(n,d,e)\n",
    " \n",
    "            history = temp_model.fit(X_tr_scaled, y_tr, validation_data=(X_val_scaled, y_val),\n",
    "                                     batch_size = 256, epochs=30, \n",
    "                                     callbacks=[early_stopping], verbose=False)\n",
    "\n",
    "            training_accuracy = history.history['accuracy'][-1]\n",
    "            validation_accuracy = history.history['val_accuracy'][-1]\n",
    "            Log_training_validation_expts(n, d, e, training_accuracy, validation_accuracy)"
   ]
  },
  {
   "cell_type": "code",
   "execution_count": null,
   "id": "44281390",
   "metadata": {},
   "outputs": [],
   "source": []
  },
  {
   "cell_type": "markdown",
   "id": "8f85a561",
   "metadata": {},
   "source": [
    " - ### Results"
   ]
  },
  {
   "cell_type": "code",
   "execution_count": 17,
   "id": "bcccc373",
   "metadata": {},
   "outputs": [],
   "source": [
    "from mpl_toolkits.mplot3d import Axes3D"
   ]
  },
  {
   "cell_type": "code",
   "execution_count": 63,
   "id": "9d6a4b34",
   "metadata": {},
   "outputs": [
    {
     "data": {
      "text/plain": [
       "(100, 15)"
      ]
     },
     "execution_count": 63,
     "metadata": {},
     "output_type": "execute_result"
    }
   ],
   "source": [
    "all_runs = mlflow.search_runs()\n",
    "all_runs.shape"
   ]
  },
  {
   "cell_type": "code",
   "execution_count": 64,
   "id": "b6a17794",
   "metadata": {},
   "outputs": [
    {
     "data": {
      "text/html": [
       "<div>\n",
       "<style scoped>\n",
       "    .dataframe tbody tr th:only-of-type {\n",
       "        vertical-align: middle;\n",
       "    }\n",
       "\n",
       "    .dataframe tbody tr th {\n",
       "        vertical-align: top;\n",
       "    }\n",
       "\n",
       "    .dataframe thead th {\n",
       "        text-align: right;\n",
       "    }\n",
       "</style>\n",
       "<table border=\"1\" class=\"dataframe\">\n",
       "  <thead>\n",
       "    <tr style=\"text-align: right;\">\n",
       "      <th></th>\n",
       "      <th>metrics.validation_accuracy</th>\n",
       "      <th>params.num_nodes</th>\n",
       "      <th>params.dropout</th>\n",
       "      <th>params.learning_rate</th>\n",
       "      <th>metrics.training_accuracy</th>\n",
       "    </tr>\n",
       "  </thead>\n",
       "  <tbody>\n",
       "    <tr>\n",
       "      <th>0</th>\n",
       "      <td>0.968667</td>\n",
       "      <td>512</td>\n",
       "      <td>0.4</td>\n",
       "      <td>0.1</td>\n",
       "      <td>0.974315</td>\n",
       "    </tr>\n",
       "    <tr>\n",
       "      <th>1</th>\n",
       "      <td>0.973833</td>\n",
       "      <td>512</td>\n",
       "      <td>0.4</td>\n",
       "      <td>0.075</td>\n",
       "      <td>0.978907</td>\n",
       "    </tr>\n",
       "    <tr>\n",
       "      <th>2</th>\n",
       "      <td>0.967833</td>\n",
       "      <td>512</td>\n",
       "      <td>0.4</td>\n",
       "      <td>0.05</td>\n",
       "      <td>0.972315</td>\n",
       "    </tr>\n",
       "    <tr>\n",
       "      <th>3</th>\n",
       "      <td>0.961667</td>\n",
       "      <td>512</td>\n",
       "      <td>0.4</td>\n",
       "      <td>0.025</td>\n",
       "      <td>0.963463</td>\n",
       "    </tr>\n",
       "    <tr>\n",
       "      <th>4</th>\n",
       "      <td>0.949833</td>\n",
       "      <td>512</td>\n",
       "      <td>0.4</td>\n",
       "      <td>0.01</td>\n",
       "      <td>0.941315</td>\n",
       "    </tr>\n",
       "  </tbody>\n",
       "</table>\n",
       "</div>"
      ],
      "text/plain": [
       "   metrics.validation_accuracy params.num_nodes params.dropout  \\\n",
       "0                     0.968667              512            0.4   \n",
       "1                     0.973833              512            0.4   \n",
       "2                     0.967833              512            0.4   \n",
       "3                     0.961667              512            0.4   \n",
       "4                     0.949833              512            0.4   \n",
       "\n",
       "  params.learning_rate  metrics.training_accuracy  \n",
       "0                  0.1                   0.974315  \n",
       "1                0.075                   0.978907  \n",
       "2                 0.05                   0.972315  \n",
       "3                0.025                   0.963463  \n",
       "4                 0.01                   0.941315  "
      ]
     },
     "execution_count": 64,
     "metadata": {},
     "output_type": "execute_result"
    }
   ],
   "source": [
    "relev_cols = ['metrics.validation_accuracy',\n",
    "              'params.num_nodes','params.dropout','params.learning_rate',\n",
    "             'metrics.training_accuracy']\n",
    "all_runs.head()[relev_cols]"
   ]
  },
  {
   "cell_type": "code",
   "execution_count": 70,
   "id": "fe1cdb42",
   "metadata": {},
   "outputs": [
    {
     "data": {
      "text/html": [
       "<div>\n",
       "<style scoped>\n",
       "    .dataframe tbody tr th:only-of-type {\n",
       "        vertical-align: middle;\n",
       "    }\n",
       "\n",
       "    .dataframe tbody tr th {\n",
       "        vertical-align: top;\n",
       "    }\n",
       "\n",
       "    .dataframe thead th {\n",
       "        text-align: right;\n",
       "    }\n",
       "</style>\n",
       "<table border=\"1\" class=\"dataframe\">\n",
       "  <thead>\n",
       "    <tr style=\"text-align: right;\">\n",
       "      <th></th>\n",
       "      <th>metrics.validation_accuracy</th>\n",
       "      <th>params.num_nodes</th>\n",
       "      <th>params.dropout</th>\n",
       "      <th>params.learning_rate</th>\n",
       "      <th>metrics.training_accuracy</th>\n",
       "    </tr>\n",
       "  </thead>\n",
       "  <tbody>\n",
       "    <tr>\n",
       "      <th>40</th>\n",
       "      <td>0.975167</td>\n",
       "      <td>256</td>\n",
       "      <td>0.1</td>\n",
       "      <td>0.1</td>\n",
       "      <td>0.992796</td>\n",
       "    </tr>\n",
       "    <tr>\n",
       "      <th>25</th>\n",
       "      <td>0.975167</td>\n",
       "      <td>256</td>\n",
       "      <td>0.4</td>\n",
       "      <td>0.1</td>\n",
       "      <td>0.980204</td>\n",
       "    </tr>\n",
       "    <tr>\n",
       "      <th>10</th>\n",
       "      <td>0.975000</td>\n",
       "      <td>512</td>\n",
       "      <td>0.2</td>\n",
       "      <td>0.1</td>\n",
       "      <td>0.989852</td>\n",
       "    </tr>\n",
       "    <tr>\n",
       "      <th>1</th>\n",
       "      <td>0.973833</td>\n",
       "      <td>512</td>\n",
       "      <td>0.4</td>\n",
       "      <td>0.075</td>\n",
       "      <td>0.978907</td>\n",
       "    </tr>\n",
       "    <tr>\n",
       "      <th>21</th>\n",
       "      <td>0.973833</td>\n",
       "      <td>512</td>\n",
       "      <td>0.0</td>\n",
       "      <td>0.075</td>\n",
       "      <td>0.998037</td>\n",
       "    </tr>\n",
       "    <tr>\n",
       "      <th>16</th>\n",
       "      <td>0.973500</td>\n",
       "      <td>512</td>\n",
       "      <td>0.1</td>\n",
       "      <td>0.075</td>\n",
       "      <td>0.991833</td>\n",
       "    </tr>\n",
       "    <tr>\n",
       "      <th>20</th>\n",
       "      <td>0.973167</td>\n",
       "      <td>512</td>\n",
       "      <td>0.0</td>\n",
       "      <td>0.1</td>\n",
       "      <td>0.999241</td>\n",
       "    </tr>\n",
       "    <tr>\n",
       "      <th>35</th>\n",
       "      <td>0.972667</td>\n",
       "      <td>256</td>\n",
       "      <td>0.2</td>\n",
       "      <td>0.1</td>\n",
       "      <td>0.985000</td>\n",
       "    </tr>\n",
       "    <tr>\n",
       "      <th>46</th>\n",
       "      <td>0.972500</td>\n",
       "      <td>256</td>\n",
       "      <td>0.0</td>\n",
       "      <td>0.075</td>\n",
       "      <td>0.996556</td>\n",
       "    </tr>\n",
       "    <tr>\n",
       "      <th>61</th>\n",
       "      <td>0.972500</td>\n",
       "      <td>128</td>\n",
       "      <td>0.2</td>\n",
       "      <td>0.075</td>\n",
       "      <td>0.976667</td>\n",
       "    </tr>\n",
       "  </tbody>\n",
       "</table>\n",
       "</div>"
      ],
      "text/plain": [
       "    metrics.validation_accuracy params.num_nodes params.dropout  \\\n",
       "40                     0.975167              256            0.1   \n",
       "25                     0.975167              256            0.4   \n",
       "10                     0.975000              512            0.2   \n",
       "1                      0.973833              512            0.4   \n",
       "21                     0.973833              512            0.0   \n",
       "16                     0.973500              512            0.1   \n",
       "20                     0.973167              512            0.0   \n",
       "35                     0.972667              256            0.2   \n",
       "46                     0.972500              256            0.0   \n",
       "61                     0.972500              128            0.2   \n",
       "\n",
       "   params.learning_rate  metrics.training_accuracy  \n",
       "40                  0.1                   0.992796  \n",
       "25                  0.1                   0.980204  \n",
       "10                  0.1                   0.989852  \n",
       "1                 0.075                   0.978907  \n",
       "21                0.075                   0.998037  \n",
       "16                0.075                   0.991833  \n",
       "20                  0.1                   0.999241  \n",
       "35                  0.1                   0.985000  \n",
       "46                0.075                   0.996556  \n",
       "61                0.075                   0.976667  "
      ]
     },
     "execution_count": 70,
     "metadata": {},
     "output_type": "execute_result"
    }
   ],
   "source": [
    "#Check top-5 Validation Accuracy paramater values\n",
    "all_runs.sort_values(by='metrics.validation_accuracy',ascending=False)[relev_cols].iloc[:10]"
   ]
  },
  {
   "cell_type": "markdown",
   "id": "c268618e",
   "metadata": {},
   "source": [
    "From the above list it appears, the network with 128 nodes (listed last above) appears to be the most logical choice. The gain in predictive performance is less than 0.5% and that wouldn't be worth doubling the network parameters."
   ]
  },
  {
   "cell_type": "markdown",
   "id": "2471322c",
   "metadata": {},
   "source": [
    " - ### Log Final Performance with Optimal Params"
   ]
  },
  {
   "cell_type": "code",
   "execution_count": 73,
   "id": "46c6f8a2",
   "metadata": {},
   "outputs": [
    {
     "name": "stdout",
     "output_type": "stream",
     "text": [
      "Model: \"sequential_100\"\n",
      "_________________________________________________________________\n",
      " Layer (type)                Output Shape              Param #   \n",
      "=================================================================\n",
      " dense_200 (Dense)           (None, 128)               100480    \n",
      "                                                                 \n",
      " dropout_100 (Dropout)       (None, 128)               0         \n",
      "                                                                 \n",
      " dense_201 (Dense)           (None, 10)                1290      \n",
      "                                                                 \n",
      "=================================================================\n",
      "Total params: 101770 (397.54 KB)\n",
      "Trainable params: 101770 (397.54 KB)\n",
      "Non-trainable params: 0 (0.00 Byte)\n",
      "_________________________________________________________________\n"
     ]
    }
   ],
   "source": [
    "model = Sequential()\n",
    "model.add(Dense(128, input_shape = (784,), kernel_initializer='he_uniform', activation='relu'))\n",
    "model.add(Dropout(0.2,seed =0))\n",
    "model.add(Dense(10,activation='softmax'))\n",
    "\n",
    "sgd = tf.keras.optimizers.experimental.SGD(\n",
    "                        learning_rate=0.075,\n",
    "                        momentum=0.0)\n",
    "model.compile(optimizer=sgd,\n",
    "              loss='sparse_categorical_crossentropy',\n",
    "              metrics=['accuracy'])\n",
    "model.summary()"
   ]
  },
  {
   "cell_type": "code",
   "execution_count": 74,
   "id": "0d524975",
   "metadata": {},
   "outputs": [],
   "source": [
    "history = model.fit(X_tr_scaled, y_tr, validation_data=(X_val_scaled, y_val),\n",
    "                  batch_size = 256, epochs=30, \n",
    "                  callbacks=[early_stopping], verbose=False)"
   ]
  },
  {
   "cell_type": "code",
   "execution_count": 75,
   "id": "7e1b93ab",
   "metadata": {},
   "outputs": [
    {
     "data": {
      "image/png": "[encoded data removed]",
      "text/plain": [
       "<Figure size 1600x600 with 2 Axes>"
      ]
     },
     "metadata": {},
     "output_type": "display_data"
    }
   ],
   "source": [
    "fig, axs = plt.subplots(1,2, figsize=(16,6))\n",
    "\n",
    "axs[0].plot(history.history['loss'], label='train')\n",
    "axs[0].plot(history.history['val_loss'], label='validation')\n",
    "axs[0].set_title('Loss')\n",
    "# axs[0].set_ylim(0, 1)\n",
    "axs[0].legend()\n",
    "\n",
    "axs[1].plot(history.history['accuracy'], label='train')\n",
    "axs[1].plot(history.history['val_accuracy'], label='validation')\n",
    "axs[1].set_title('Accuracy')\n",
    "axs[1].legend()\n",
    "\n",
    "plt.tight_layout();"
   ]
  },
  {
   "cell_type": "code",
   "execution_count": 76,
   "id": "ce15751e",
   "metadata": {},
   "outputs": [
    {
     "data": {
      "text/plain": [
       "(0.9796666502952576, 0.971833348274231)"
      ]
     },
     "execution_count": 76,
     "metadata": {},
     "output_type": "execute_result"
    }
   ],
   "source": [
    "training_accuracy = history.history['accuracy'][-1]\n",
    "validation_accuracy = history.history['val_accuracy'][-1]\n",
    "\n",
    "training_accuracy, validation_accuracy"
   ]
  },
  {
   "cell_type": "code",
   "execution_count": 77,
   "id": "55245498",
   "metadata": {},
   "outputs": [
    {
     "name": "stdout",
     "output_type": "stream",
     "text": [
      "313/313 [==============================] - 0s 1ms/step - loss: 0.1227 - accuracy: 0.9713\n"
     ]
    },
    {
     "data": {
      "text/plain": [
       "(0.1226535364985466, 0.9713000059127808)"
      ]
     },
     "execution_count": 77,
     "metadata": {},
     "output_type": "execute_result"
    }
   ],
   "source": [
    "test_loss, test_accuracy = model.evaluate(ts_images_scaled, ts_labels)\n",
    "test_loss, test_accuracy"
   ]
  },
  {
   "cell_type": "code",
   "execution_count": null,
   "id": "af7f98a5",
   "metadata": {},
   "outputs": [],
   "source": [
    "mlflow.set_experiment(\"minst-mlp-dev\")\n",
    "with mlflow.start_run() as run:\n",
    "    # Log parameters\n",
    "    mlflow.log_param(\"num_nodes\", 128)\n",
    "    mlflow.log_param(\"dropout\", 0.2)\n",
    "    mlflow.log_param(\"learning_rate\", 0.075)\n",
    "\n",
    "    # Log metrics\n",
    "    mlflow.log_metric(\"training_accuracy\", training_accuracy)\n",
    "    mlflow.log_metric(\"validation_accuracy\", validation_accuracy)\n",
    "    mlflow.log_metric(\"test_accuracy\", test_accuracy)\n",
    "    \n",
    "    #Log artficats\n",
    "    mlflow.keras.model"
   ]
  },
  {
   "cell_type": "code",
   "execution_count": null,
   "id": "85a643ed",
   "metadata": {},
   "outputs": [],
   "source": []
  }
 ],
 "metadata": {
  "kernelspec": {
   "display_name": "Python 3 (ipykernel)",
   "language": "python",
   "name": "python3"
  },
  "language_info": {
   "codemirror_mode": {
    "name": "ipython",
    "version": 3
   },
   "file_extension": ".py",
   "mimetype": "text/x-python",
   "name": "python",
   "nbconvert_exporter": "python",
   "pygments_lexer": "ipython3",
   "version": "3.8.0"
  }
 },
 "nbformat": 4,
 "nbformat_minor": 5
}
